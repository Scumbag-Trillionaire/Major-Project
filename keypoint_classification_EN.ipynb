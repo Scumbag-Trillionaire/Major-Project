{
  "cells": [
    {
      "cell_type": "code",
      "execution_count": 51,
      "metadata": {
        "id": "igMyGnjE9hEp"
      },
      "outputs": [],
      "source": [
        "import csv\n",
        "\n",
        "import numpy as np\n",
        "import tensorflow as tf\n",
        "from sklearn.model_selection import train_test_split\n",
        "\n",
        "RANDOM_SEED = 42"
      ]
    },
    {
      "cell_type": "markdown",
      "metadata": {
        "id": "t2HDvhIu9hEr"
      },
      "source": [
        "# Specify each path"
      ]
    },
    {
      "cell_type": "code",
      "execution_count": 52,
      "metadata": {
        "id": "9NvZP2Zn9hEy"
      },
      "outputs": [],
      "source": [
        "dataset = 'model/keypoint_classifier/keypoint.csv'\n",
        "model_save_path = 'model/keypoint_classifier/keypoint_classifier.hdf5'\n",
        "tflite_save_path = 'model/keypoint_classifier/keypoint_classifier.tflite'"
      ]
    },
    {
      "cell_type": "markdown",
      "metadata": {
        "id": "s5oMH7x19hEz"
      },
      "source": [
        "# Set number of classes"
      ]
    },
    {
      "cell_type": "code",
      "execution_count": 53,
      "metadata": {
        "id": "du4kodXL9hEz"
      },
      "outputs": [],
      "source": [
        "NUM_CLASSES = 4"
      ]
    },
    {
      "cell_type": "markdown",
      "metadata": {
        "id": "XjnL0uso9hEz"
      },
      "source": [
        "# Dataset reading"
      ]
    },
    {
      "cell_type": "code",
      "execution_count": 54,
      "metadata": {
        "id": "QT5ZqtEz9hE0"
      },
      "outputs": [],
      "source": [
        "X_dataset = np.loadtxt(dataset, delimiter=',', dtype='float32', usecols=list(range(1, (21 * 2) + 1)))"
      ]
    },
    {
      "cell_type": "code",
      "execution_count": 55,
      "metadata": {
        "id": "QmoKFsp49hE0"
      },
      "outputs": [],
      "source": [
        "y_dataset = np.loadtxt(dataset, delimiter=',', dtype='int32', usecols=(0))"
      ]
    },
    {
      "cell_type": "code",
      "execution_count": 56,
      "metadata": {
        "id": "xQU7JTZ_9hE0"
      },
      "outputs": [],
      "source": [
        "X_train, X_test, y_train, y_test = train_test_split(X_dataset, y_dataset, train_size=0.75, random_state=RANDOM_SEED)"
      ]
    },
    {
      "cell_type": "markdown",
      "metadata": {
        "id": "mxK_lETT9hE0"
      },
      "source": [
        "# Model building"
      ]
    },
    {
      "cell_type": "code",
      "execution_count": 57,
      "metadata": {
        "id": "vHBmUf1t9hE1"
      },
      "outputs": [],
      "source": [
        "model = tf.keras.models.Sequential([\n",
        "    tf.keras.layers.Input((21 * 2, )),\n",
        "    tf.keras.layers.Dropout(0.2),\n",
        "    tf.keras.layers.Dense(20, activation='relu'),\n",
        "    tf.keras.layers.Dropout(0.4),\n",
        "    tf.keras.layers.Dense(10, activation='relu'),\n",
        "    tf.keras.layers.Dense(NUM_CLASSES, activation='softmax')\n",
        "])"
      ]
    },
    {
      "cell_type": "code",
      "execution_count": 58,
      "metadata": {
        "colab": {
          "base_uri": "https://localhost:8080/"
        },
        "id": "ypqky9tc9hE1",
        "outputId": "5db082bb-30e3-4110-bf63-a1ee777ecd46"
      },
      "outputs": [
        {
          "name": "stdout",
          "output_type": "stream",
          "text": [
            "Model: \"sequential_2\"\n",
            "_________________________________________________________________\n",
            " Layer (type)                Output Shape              Param #   \n",
            "=================================================================\n",
            " dropout_4 (Dropout)         (None, 42)                0         \n",
            "                                                                 \n",
            " dense_6 (Dense)             (None, 20)                860       \n",
            "                                                                 \n",
            " dropout_5 (Dropout)         (None, 20)                0         \n",
            "                                                                 \n",
            " dense_7 (Dense)             (None, 10)                210       \n",
            "                                                                 \n",
            " dense_8 (Dense)             (None, 4)                 44        \n",
            "                                                                 \n",
            "=================================================================\n",
            "Total params: 1,114\n",
            "Trainable params: 1,114\n",
            "Non-trainable params: 0\n",
            "_________________________________________________________________\n"
          ]
        }
      ],
      "source": [
        "model.summary()  # tf.keras.utils.plot_model(model, show_shapes=True)"
      ]
    },
    {
      "cell_type": "code",
      "execution_count": 59,
      "metadata": {
        "id": "MbMjOflQ9hE1"
      },
      "outputs": [],
      "source": [
        "# Model checkpoint callback\n",
        "cp_callback = tf.keras.callbacks.ModelCheckpoint(\n",
        "    model_save_path, verbose=1, save_weights_only=False)\n",
        "# Callback for early stopping\n",
        "es_callback = tf.keras.callbacks.EarlyStopping(patience=20, verbose=1)"
      ]
    },
    {
      "cell_type": "code",
      "execution_count": 60,
      "metadata": {
        "id": "c3Dac0M_9hE2"
      },
      "outputs": [],
      "source": [
        "# Model compilation\n",
        "model.compile(\n",
        "    optimizer='adam',\n",
        "    loss='sparse_categorical_crossentropy',\n",
        "    metrics=['accuracy']\n",
        ")"
      ]
    },
    {
      "cell_type": "markdown",
      "metadata": {
        "id": "7XI0j1Iu9hE2"
      },
      "source": [
        "# Model training"
      ]
    },
    {
      "cell_type": "code",
      "execution_count": 61,
      "metadata": {
        "colab": {
          "base_uri": "https://localhost:8080/"
        },
        "id": "WirBl-JE9hE3",
        "outputId": "71b30ca2-8294-4d9d-8aa2-800d90d399de",
        "scrolled": true
      },
      "outputs": [
        {
          "name": "stdout",
          "output_type": "stream",
          "text": [
            "Epoch 1/1000\n"
          ]
        },
        {
          "name": "stdout",
          "output_type": "stream",
          "text": [
            "23/29 [======================>.......] - ETA: 0s - loss: 1.3523 - accuracy: 0.3169 \n",
            "Epoch 1: saving model to model/keypoint_classifier\\keypoint_classifier.hdf5\n",
            "29/29 [==============================] - 1s 12ms/step - loss: 1.3439 - accuracy: 0.3237 - val_loss: 1.2375 - val_accuracy: 0.4795\n",
            "Epoch 2/1000\n",
            "15/29 [==============>...............] - ETA: 0s - loss: 1.2640 - accuracy: 0.3839\n",
            "Epoch 2: saving model to model/keypoint_classifier\\keypoint_classifier.hdf5\n",
            "29/29 [==============================] - 0s 7ms/step - loss: 1.2555 - accuracy: 0.3939 - val_loss: 1.1533 - val_accuracy: 0.5063\n",
            "Epoch 3/1000\n",
            "20/29 [===================>..........] - ETA: 0s - loss: 1.2080 - accuracy: 0.4246\n",
            "Epoch 3: saving model to model/keypoint_classifier\\keypoint_classifier.hdf5\n",
            "29/29 [==============================] - 0s 6ms/step - loss: 1.2007 - accuracy: 0.4284 - val_loss: 1.0891 - val_accuracy: 0.5589\n",
            "Epoch 4/1000\n",
            "16/29 [===============>..............] - ETA: 0s - loss: 1.1613 - accuracy: 0.4653\n",
            "Epoch 4: saving model to model/keypoint_classifier\\keypoint_classifier.hdf5\n",
            "29/29 [==============================] - 0s 6ms/step - loss: 1.1514 - accuracy: 0.4666 - val_loss: 1.0231 - val_accuracy: 0.6257\n",
            "Epoch 5/1000\n",
            "18/29 [=================>............] - ETA: 0s - loss: 1.1137 - accuracy: 0.4779\n",
            "Epoch 5: saving model to model/keypoint_classifier\\keypoint_classifier.hdf5\n",
            "29/29 [==============================] - 0s 6ms/step - loss: 1.1057 - accuracy: 0.4844 - val_loss: 0.9686 - val_accuracy: 0.6316\n",
            "Epoch 6/1000\n",
            "19/29 [==================>...........] - ETA: 0s - loss: 1.0714 - accuracy: 0.5062\n",
            "Epoch 6: saving model to model/keypoint_classifier\\keypoint_classifier.hdf5\n",
            "29/29 [==============================] - 0s 6ms/step - loss: 1.0661 - accuracy: 0.5103 - val_loss: 0.9177 - val_accuracy: 0.6441\n",
            "Epoch 7/1000\n",
            "20/29 [===================>..........] - ETA: 0s - loss: 1.0431 - accuracy: 0.5059\n",
            "Epoch 7: saving model to model/keypoint_classifier\\keypoint_classifier.hdf5\n",
            "29/29 [==============================] - 0s 5ms/step - loss: 1.0405 - accuracy: 0.5123 - val_loss: 0.8754 - val_accuracy: 0.6600\n",
            "Epoch 8/1000\n",
            "18/29 [=================>............] - ETA: 0s - loss: 1.0252 - accuracy: 0.5130\n",
            "Epoch 8: saving model to model/keypoint_classifier\\keypoint_classifier.hdf5\n",
            "29/29 [==============================] - 0s 6ms/step - loss: 1.0116 - accuracy: 0.5237 - val_loss: 0.8411 - val_accuracy: 0.6700\n",
            "Epoch 9/1000\n",
            "22/29 [=====================>........] - ETA: 0s - loss: 0.9856 - accuracy: 0.5469\n",
            "Epoch 9: saving model to model/keypoint_classifier\\keypoint_classifier.hdf5\n",
            "29/29 [==============================] - 0s 5ms/step - loss: 0.9846 - accuracy: 0.5465 - val_loss: 0.8004 - val_accuracy: 0.6926\n",
            "Epoch 10/1000\n",
            "21/29 [====================>.........] - ETA: 0s - loss: 0.9610 - accuracy: 0.5640\n",
            "Epoch 10: saving model to model/keypoint_classifier\\keypoint_classifier.hdf5\n",
            "29/29 [==============================] - 0s 5ms/step - loss: 0.9595 - accuracy: 0.5602 - val_loss: 0.7679 - val_accuracy: 0.7135\n",
            "Epoch 11/1000\n",
            "21/29 [====================>.........] - ETA: 0s - loss: 0.9424 - accuracy: 0.5673\n",
            "Epoch 11: saving model to model/keypoint_classifier\\keypoint_classifier.hdf5\n",
            "29/29 [==============================] - 0s 5ms/step - loss: 0.9438 - accuracy: 0.5696 - val_loss: 0.7369 - val_accuracy: 0.7277\n",
            "Epoch 12/1000\n",
            "21/29 [====================>.........] - ETA: 0s - loss: 0.9169 - accuracy: 0.5871\n",
            "Epoch 12: saving model to model/keypoint_classifier\\keypoint_classifier.hdf5\n",
            "29/29 [==============================] - 0s 6ms/step - loss: 0.9189 - accuracy: 0.5838 - val_loss: 0.7098 - val_accuracy: 0.7368\n",
            "Epoch 13/1000\n",
            "22/29 [=====================>........] - ETA: 0s - loss: 0.8909 - accuracy: 0.5866\n",
            "Epoch 13: saving model to model/keypoint_classifier\\keypoint_classifier.hdf5\n",
            "29/29 [==============================] - 0s 5ms/step - loss: 0.8882 - accuracy: 0.5936 - val_loss: 0.6762 - val_accuracy: 0.7652\n",
            "Epoch 14/1000\n",
            "21/29 [====================>.........] - ETA: 0s - loss: 0.8844 - accuracy: 0.6038\n",
            "Epoch 14: saving model to model/keypoint_classifier\\keypoint_classifier.hdf5\n",
            "29/29 [==============================] - 0s 6ms/step - loss: 0.8865 - accuracy: 0.5981 - val_loss: 0.6477 - val_accuracy: 0.7719\n",
            "Epoch 15/1000\n",
            "18/29 [=================>............] - ETA: 0s - loss: 0.8672 - accuracy: 0.6089\n",
            "Epoch 15: saving model to model/keypoint_classifier\\keypoint_classifier.hdf5\n",
            "29/29 [==============================] - 0s 6ms/step - loss: 0.8646 - accuracy: 0.6103 - val_loss: 0.6248 - val_accuracy: 0.7803\n",
            "Epoch 16/1000\n",
            "15/29 [==============>...............] - ETA: 0s - loss: 0.8483 - accuracy: 0.6214\n",
            "Epoch 16: saving model to model/keypoint_classifier\\keypoint_classifier.hdf5\n",
            "29/29 [==============================] - 0s 6ms/step - loss: 0.8400 - accuracy: 0.6279 - val_loss: 0.5958 - val_accuracy: 0.8104\n",
            "Epoch 17/1000\n",
            "21/29 [====================>.........] - ETA: 0s - loss: 0.8252 - accuracy: 0.6384\n",
            "Epoch 17: saving model to model/keypoint_classifier\\keypoint_classifier.hdf5\n",
            "29/29 [==============================] - 0s 6ms/step - loss: 0.8262 - accuracy: 0.6387 - val_loss: 0.5752 - val_accuracy: 0.8262\n",
            "Epoch 18/1000\n",
            "19/29 [==================>...........] - ETA: 0s - loss: 0.8263 - accuracy: 0.6484\n",
            "Epoch 18: saving model to model/keypoint_classifier\\keypoint_classifier.hdf5\n",
            "29/29 [==============================] - 0s 6ms/step - loss: 0.8068 - accuracy: 0.6549 - val_loss: 0.5564 - val_accuracy: 0.8571\n",
            "Epoch 19/1000\n",
            "17/29 [================>.............] - ETA: 0s - loss: 0.7781 - accuracy: 0.6677\n",
            "Epoch 19: saving model to model/keypoint_classifier\\keypoint_classifier.hdf5\n",
            "29/29 [==============================] - 0s 6ms/step - loss: 0.7839 - accuracy: 0.6655 - val_loss: 0.5299 - val_accuracy: 0.8755\n",
            "Epoch 20/1000\n",
            "16/29 [===============>..............] - ETA: 0s - loss: 0.7554 - accuracy: 0.6694\n",
            "Epoch 20: saving model to model/keypoint_classifier\\keypoint_classifier.hdf5\n",
            "29/29 [==============================] - 0s 7ms/step - loss: 0.7677 - accuracy: 0.6604 - val_loss: 0.5153 - val_accuracy: 0.9089\n",
            "Epoch 21/1000\n",
            "15/29 [==============>...............] - ETA: 0s - loss: 0.7475 - accuracy: 0.6891\n",
            "Epoch 21: saving model to model/keypoint_classifier\\keypoint_classifier.hdf5\n",
            "29/29 [==============================] - 0s 7ms/step - loss: 0.7526 - accuracy: 0.6755 - val_loss: 0.4924 - val_accuracy: 0.9081\n",
            "Epoch 22/1000\n",
            "17/29 [================>.............] - ETA: 0s - loss: 0.7643 - accuracy: 0.6687\n",
            "Epoch 22: saving model to model/keypoint_classifier\\keypoint_classifier.hdf5\n",
            "29/29 [==============================] - 0s 6ms/step - loss: 0.7563 - accuracy: 0.6763 - val_loss: 0.4796 - val_accuracy: 0.9073\n",
            "Epoch 23/1000\n",
            "21/29 [====================>.........] - ETA: 0s - loss: 0.7294 - accuracy: 0.6834\n",
            "Epoch 23: saving model to model/keypoint_classifier\\keypoint_classifier.hdf5\n",
            "29/29 [==============================] - 0s 5ms/step - loss: 0.7292 - accuracy: 0.6852 - val_loss: 0.4616 - val_accuracy: 0.9123\n",
            "Epoch 24/1000\n",
            "20/29 [===================>..........] - ETA: 0s - loss: 0.7381 - accuracy: 0.6938\n",
            "Epoch 24: saving model to model/keypoint_classifier\\keypoint_classifier.hdf5\n",
            "29/29 [==============================] - 0s 6ms/step - loss: 0.7310 - accuracy: 0.6967 - val_loss: 0.4501 - val_accuracy: 0.9131\n",
            "Epoch 25/1000\n",
            "12/29 [===========>..................] - ETA: 0s - loss: 0.7313 - accuracy: 0.6966\n",
            "Epoch 25: saving model to model/keypoint_classifier\\keypoint_classifier.hdf5\n",
            "29/29 [==============================] - 0s 6ms/step - loss: 0.7305 - accuracy: 0.6997 - val_loss: 0.4380 - val_accuracy: 0.9114\n",
            "Epoch 26/1000\n",
            "24/29 [=======================>......] - ETA: 0s - loss: 0.6976 - accuracy: 0.7044\n",
            "Epoch 26: saving model to model/keypoint_classifier\\keypoint_classifier.hdf5\n",
            "29/29 [==============================] - 0s 5ms/step - loss: 0.7013 - accuracy: 0.7014 - val_loss: 0.4252 - val_accuracy: 0.9140\n",
            "Epoch 27/1000\n",
            "25/29 [========================>.....] - ETA: 0s - loss: 0.6940 - accuracy: 0.7147\n",
            "Epoch 27: saving model to model/keypoint_classifier\\keypoint_classifier.hdf5\n",
            "29/29 [==============================] - 0s 5ms/step - loss: 0.7011 - accuracy: 0.7134 - val_loss: 0.4153 - val_accuracy: 0.9256\n",
            "Epoch 28/1000\n",
            "24/29 [=======================>......] - ETA: 0s - loss: 0.7046 - accuracy: 0.7044\n",
            "Epoch 28: saving model to model/keypoint_classifier\\keypoint_classifier.hdf5\n",
            "29/29 [==============================] - 0s 5ms/step - loss: 0.7040 - accuracy: 0.7003 - val_loss: 0.4085 - val_accuracy: 0.9198\n",
            "Epoch 29/1000\n",
            "19/29 [==================>...........] - ETA: 0s - loss: 0.6902 - accuracy: 0.7155\n",
            "Epoch 29: saving model to model/keypoint_classifier\\keypoint_classifier.hdf5\n",
            "29/29 [==============================] - 0s 5ms/step - loss: 0.6988 - accuracy: 0.7131 - val_loss: 0.4053 - val_accuracy: 0.9231\n",
            "Epoch 30/1000\n",
            "19/29 [==================>...........] - ETA: 0s - loss: 0.6940 - accuracy: 0.7101\n",
            "Epoch 30: saving model to model/keypoint_classifier\\keypoint_classifier.hdf5\n",
            "29/29 [==============================] - 0s 6ms/step - loss: 0.6984 - accuracy: 0.7120 - val_loss: 0.3995 - val_accuracy: 0.9190\n",
            "Epoch 31/1000\n",
            "23/29 [======================>.......] - ETA: 0s - loss: 0.6730 - accuracy: 0.7160\n",
            "Epoch 31: saving model to model/keypoint_classifier\\keypoint_classifier.hdf5\n",
            "29/29 [==============================] - 0s 5ms/step - loss: 0.6745 - accuracy: 0.7167 - val_loss: 0.3878 - val_accuracy: 0.9198\n",
            "Epoch 32/1000\n",
            "20/29 [===================>..........] - ETA: 0s - loss: 0.6758 - accuracy: 0.7156\n",
            "Epoch 32: saving model to model/keypoint_classifier\\keypoint_classifier.hdf5\n",
            "29/29 [==============================] - 0s 5ms/step - loss: 0.6696 - accuracy: 0.7231 - val_loss: 0.3783 - val_accuracy: 0.9323\n",
            "Epoch 33/1000\n",
            "22/29 [=====================>........] - ETA: 0s - loss: 0.6685 - accuracy: 0.7319\n",
            "Epoch 33: saving model to model/keypoint_classifier\\keypoint_classifier.hdf5\n",
            "29/29 [==============================] - 0s 5ms/step - loss: 0.6645 - accuracy: 0.7351 - val_loss: 0.3689 - val_accuracy: 0.9365\n",
            "Epoch 34/1000\n",
            "22/29 [=====================>........] - ETA: 0s - loss: 0.6753 - accuracy: 0.7212\n",
            "Epoch 34: saving model to model/keypoint_classifier\\keypoint_classifier.hdf5\n",
            "29/29 [==============================] - 0s 5ms/step - loss: 0.6734 - accuracy: 0.7159 - val_loss: 0.3675 - val_accuracy: 0.9340\n",
            "Epoch 35/1000\n",
            "19/29 [==================>...........] - ETA: 0s - loss: 0.6771 - accuracy: 0.7253\n",
            "Epoch 35: saving model to model/keypoint_classifier\\keypoint_classifier.hdf5\n",
            "29/29 [==============================] - 0s 6ms/step - loss: 0.6652 - accuracy: 0.7312 - val_loss: 0.3630 - val_accuracy: 0.9340\n",
            "Epoch 36/1000\n",
            "21/29 [====================>.........] - ETA: 0s - loss: 0.6636 - accuracy: 0.7254\n",
            "Epoch 36: saving model to model/keypoint_classifier\\keypoint_classifier.hdf5\n",
            "29/29 [==============================] - 0s 5ms/step - loss: 0.6582 - accuracy: 0.7329 - val_loss: 0.3567 - val_accuracy: 0.9415\n",
            "Epoch 37/1000\n",
            "19/29 [==================>...........] - ETA: 0s - loss: 0.6396 - accuracy: 0.7385\n",
            "Epoch 37: saving model to model/keypoint_classifier\\keypoint_classifier.hdf5\n",
            "29/29 [==============================] - 0s 6ms/step - loss: 0.6529 - accuracy: 0.7326 - val_loss: 0.3472 - val_accuracy: 0.9365\n",
            "Epoch 38/1000\n",
            "18/29 [=================>............] - ETA: 0s - loss: 0.6778 - accuracy: 0.7231\n",
            "Epoch 38: saving model to model/keypoint_classifier\\keypoint_classifier.hdf5\n",
            "29/29 [==============================] - 0s 6ms/step - loss: 0.6670 - accuracy: 0.7220 - val_loss: 0.3479 - val_accuracy: 0.9357\n",
            "Epoch 39/1000\n",
            "19/29 [==================>...........] - ETA: 0s - loss: 0.6280 - accuracy: 0.7562\n",
            "Epoch 39: saving model to model/keypoint_classifier\\keypoint_classifier.hdf5\n",
            "29/29 [==============================] - 0s 6ms/step - loss: 0.6278 - accuracy: 0.7526 - val_loss: 0.3384 - val_accuracy: 0.9407\n",
            "Epoch 40/1000\n",
            "19/29 [==================>...........] - ETA: 0s - loss: 0.6296 - accuracy: 0.7368\n",
            "Epoch 40: saving model to model/keypoint_classifier\\keypoint_classifier.hdf5\n",
            "29/29 [==============================] - 0s 6ms/step - loss: 0.6228 - accuracy: 0.7412 - val_loss: 0.3280 - val_accuracy: 0.9424\n",
            "Epoch 41/1000\n",
            "17/29 [================>.............] - ETA: 0s - loss: 0.6279 - accuracy: 0.7459\n",
            "Epoch 41: saving model to model/keypoint_classifier\\keypoint_classifier.hdf5\n",
            "29/29 [==============================] - 0s 6ms/step - loss: 0.6228 - accuracy: 0.7476 - val_loss: 0.3317 - val_accuracy: 0.9398\n",
            "Epoch 42/1000\n",
            "21/29 [====================>.........] - ETA: 0s - loss: 0.6168 - accuracy: 0.7463\n",
            "Epoch 42: saving model to model/keypoint_classifier\\keypoint_classifier.hdf5\n",
            "29/29 [==============================] - 0s 5ms/step - loss: 0.6251 - accuracy: 0.7440 - val_loss: 0.3301 - val_accuracy: 0.9382\n",
            "Epoch 43/1000\n",
            "20/29 [===================>..........] - ETA: 0s - loss: 0.6369 - accuracy: 0.7402\n",
            "Epoch 43: saving model to model/keypoint_classifier\\keypoint_classifier.hdf5\n",
            "29/29 [==============================] - 0s 6ms/step - loss: 0.6325 - accuracy: 0.7418 - val_loss: 0.3318 - val_accuracy: 0.9348\n",
            "Epoch 44/1000\n",
            "19/29 [==================>...........] - ETA: 0s - loss: 0.6265 - accuracy: 0.7475\n",
            "Epoch 44: saving model to model/keypoint_classifier\\keypoint_classifier.hdf5\n",
            "29/29 [==============================] - 0s 6ms/step - loss: 0.6270 - accuracy: 0.7515 - val_loss: 0.3230 - val_accuracy: 0.9440\n",
            "Epoch 45/1000\n",
            "21/29 [====================>.........] - ETA: 0s - loss: 0.5967 - accuracy: 0.7664\n",
            "Epoch 45: saving model to model/keypoint_classifier\\keypoint_classifier.hdf5\n",
            "29/29 [==============================] - 0s 5ms/step - loss: 0.6014 - accuracy: 0.7591 - val_loss: 0.3136 - val_accuracy: 0.9474\n",
            "Epoch 46/1000\n",
            "19/29 [==================>...........] - ETA: 0s - loss: 0.6296 - accuracy: 0.7430\n",
            "Epoch 46: saving model to model/keypoint_classifier\\keypoint_classifier.hdf5\n",
            "29/29 [==============================] - 0s 6ms/step - loss: 0.6190 - accuracy: 0.7476 - val_loss: 0.3104 - val_accuracy: 0.9457\n",
            "Epoch 47/1000\n",
            "18/29 [=================>............] - ETA: 0s - loss: 0.6141 - accuracy: 0.7574\n",
            "Epoch 47: saving model to model/keypoint_classifier\\keypoint_classifier.hdf5\n",
            "29/29 [==============================] - 0s 6ms/step - loss: 0.6050 - accuracy: 0.7596 - val_loss: 0.3072 - val_accuracy: 0.9382\n",
            "Epoch 48/1000\n",
            "18/29 [=================>............] - ETA: 0s - loss: 0.6086 - accuracy: 0.7491\n",
            "Epoch 48: saving model to model/keypoint_classifier\\keypoint_classifier.hdf5\n",
            "29/29 [==============================] - 0s 6ms/step - loss: 0.6067 - accuracy: 0.7518 - val_loss: 0.3051 - val_accuracy: 0.9424\n",
            "Epoch 49/1000\n",
            "21/29 [====================>.........] - ETA: 0s - loss: 0.6029 - accuracy: 0.7630\n",
            "Epoch 49: saving model to model/keypoint_classifier\\keypoint_classifier.hdf5\n",
            "29/29 [==============================] - 0s 5ms/step - loss: 0.5986 - accuracy: 0.7613 - val_loss: 0.2972 - val_accuracy: 0.9449\n",
            "Epoch 50/1000\n",
            "23/29 [======================>.......] - ETA: 0s - loss: 0.6233 - accuracy: 0.7449\n",
            "Epoch 50: saving model to model/keypoint_classifier\\keypoint_classifier.hdf5\n",
            "29/29 [==============================] - 0s 5ms/step - loss: 0.6109 - accuracy: 0.7510 - val_loss: 0.2957 - val_accuracy: 0.9482\n",
            "Epoch 51/1000\n",
            "21/29 [====================>.........] - ETA: 0s - loss: 0.6010 - accuracy: 0.7530\n",
            "Epoch 51: saving model to model/keypoint_classifier\\keypoint_classifier.hdf5\n",
            "29/29 [==============================] - 0s 6ms/step - loss: 0.6055 - accuracy: 0.7515 - val_loss: 0.2950 - val_accuracy: 0.9432\n",
            "Epoch 52/1000\n",
            "21/29 [====================>.........] - ETA: 0s - loss: 0.6292 - accuracy: 0.7407\n",
            "Epoch 52: saving model to model/keypoint_classifier\\keypoint_classifier.hdf5\n",
            "29/29 [==============================] - 0s 5ms/step - loss: 0.6226 - accuracy: 0.7487 - val_loss: 0.3035 - val_accuracy: 0.9482\n",
            "Epoch 53/1000\n",
            "19/29 [==================>...........] - ETA: 0s - loss: 0.6006 - accuracy: 0.7623\n",
            "Epoch 53: saving model to model/keypoint_classifier\\keypoint_classifier.hdf5\n",
            "29/29 [==============================] - 0s 5ms/step - loss: 0.5854 - accuracy: 0.7674 - val_loss: 0.2880 - val_accuracy: 0.9574\n",
            "Epoch 54/1000\n",
            "26/29 [=========================>....] - ETA: 0s - loss: 0.6047 - accuracy: 0.7539\n",
            "Epoch 54: saving model to model/keypoint_classifier\\keypoint_classifier.hdf5\n",
            "29/29 [==============================] - 0s 6ms/step - loss: 0.6053 - accuracy: 0.7543 - val_loss: 0.2869 - val_accuracy: 0.9499\n",
            "Epoch 55/1000\n",
            "24/29 [=======================>......] - ETA: 0s - loss: 0.5844 - accuracy: 0.7653\n",
            "Epoch 55: saving model to model/keypoint_classifier\\keypoint_classifier.hdf5\n",
            "29/29 [==============================] - 0s 5ms/step - loss: 0.5854 - accuracy: 0.7632 - val_loss: 0.2842 - val_accuracy: 0.9507\n",
            "Epoch 56/1000\n",
            "25/29 [========================>.....] - ETA: 0s - loss: 0.5786 - accuracy: 0.7672\n",
            "Epoch 56: saving model to model/keypoint_classifier\\keypoint_classifier.hdf5\n",
            "29/29 [==============================] - 0s 4ms/step - loss: 0.5782 - accuracy: 0.7680 - val_loss: 0.2793 - val_accuracy: 0.9532\n",
            "Epoch 57/1000\n",
            "29/29 [==============================] - ETA: 0s - loss: 0.5767 - accuracy: 0.7671\n",
            "Epoch 57: saving model to model/keypoint_classifier\\keypoint_classifier.hdf5\n",
            "29/29 [==============================] - 0s 4ms/step - loss: 0.5767 - accuracy: 0.7671 - val_loss: 0.2771 - val_accuracy: 0.9541\n",
            "Epoch 58/1000\n",
            "29/29 [==============================] - ETA: 0s - loss: 0.5908 - accuracy: 0.7685\n",
            "Epoch 58: saving model to model/keypoint_classifier\\keypoint_classifier.hdf5\n",
            "29/29 [==============================] - 0s 4ms/step - loss: 0.5908 - accuracy: 0.7685 - val_loss: 0.2758 - val_accuracy: 0.9490\n",
            "Epoch 59/1000\n",
            "28/29 [===========================>..] - ETA: 0s - loss: 0.5799 - accuracy: 0.7670\n",
            "Epoch 59: saving model to model/keypoint_classifier\\keypoint_classifier.hdf5\n",
            "29/29 [==============================] - 0s 4ms/step - loss: 0.5800 - accuracy: 0.7669 - val_loss: 0.2762 - val_accuracy: 0.9549\n",
            "Epoch 60/1000\n",
            "29/29 [==============================] - ETA: 0s - loss: 0.5738 - accuracy: 0.7808\n",
            "Epoch 60: saving model to model/keypoint_classifier\\keypoint_classifier.hdf5\n",
            "29/29 [==============================] - 0s 4ms/step - loss: 0.5738 - accuracy: 0.7808 - val_loss: 0.2744 - val_accuracy: 0.9557\n",
            "Epoch 61/1000\n",
            "27/29 [==========================>...] - ETA: 0s - loss: 0.5816 - accuracy: 0.7769\n",
            "Epoch 61: saving model to model/keypoint_classifier\\keypoint_classifier.hdf5\n",
            "29/29 [==============================] - 0s 4ms/step - loss: 0.5792 - accuracy: 0.7774 - val_loss: 0.2734 - val_accuracy: 0.9532\n",
            "Epoch 62/1000\n",
            "27/29 [==========================>...] - ETA: 0s - loss: 0.5597 - accuracy: 0.7749\n",
            "Epoch 62: saving model to model/keypoint_classifier\\keypoint_classifier.hdf5\n",
            "29/29 [==============================] - 0s 4ms/step - loss: 0.5622 - accuracy: 0.7744 - val_loss: 0.2661 - val_accuracy: 0.9507\n",
            "Epoch 63/1000\n",
            "28/29 [===========================>..] - ETA: 0s - loss: 0.5649 - accuracy: 0.7840\n",
            "Epoch 63: saving model to model/keypoint_classifier\\keypoint_classifier.hdf5\n",
            "29/29 [==============================] - 0s 4ms/step - loss: 0.5652 - accuracy: 0.7838 - val_loss: 0.2622 - val_accuracy: 0.9607\n",
            "Epoch 64/1000\n",
            "28/29 [===========================>..] - ETA: 0s - loss: 0.5510 - accuracy: 0.7913\n",
            "Epoch 64: saving model to model/keypoint_classifier\\keypoint_classifier.hdf5\n",
            "29/29 [==============================] - 0s 4ms/step - loss: 0.5507 - accuracy: 0.7914 - val_loss: 0.2569 - val_accuracy: 0.9582\n",
            "Epoch 65/1000\n",
            "27/29 [==========================>...] - ETA: 0s - loss: 0.5525 - accuracy: 0.7885\n",
            "Epoch 65: saving model to model/keypoint_classifier\\keypoint_classifier.hdf5\n",
            "29/29 [==============================] - 0s 4ms/step - loss: 0.5489 - accuracy: 0.7900 - val_loss: 0.2546 - val_accuracy: 0.9574\n",
            "Epoch 66/1000\n",
            "27/29 [==========================>...] - ETA: 0s - loss: 0.5537 - accuracy: 0.7891\n",
            "Epoch 66: saving model to model/keypoint_classifier\\keypoint_classifier.hdf5\n",
            "29/29 [==============================] - 0s 4ms/step - loss: 0.5582 - accuracy: 0.7852 - val_loss: 0.2531 - val_accuracy: 0.9566\n",
            "Epoch 67/1000\n",
            "26/29 [=========================>....] - ETA: 0s - loss: 0.5698 - accuracy: 0.7770\n",
            "Epoch 67: saving model to model/keypoint_classifier\\keypoint_classifier.hdf5\n",
            "29/29 [==============================] - 0s 4ms/step - loss: 0.5647 - accuracy: 0.7783 - val_loss: 0.2589 - val_accuracy: 0.9557\n",
            "Epoch 68/1000\n",
            "29/29 [==============================] - ETA: 0s - loss: 0.5430 - accuracy: 0.7928\n",
            "Epoch 68: saving model to model/keypoint_classifier\\keypoint_classifier.hdf5\n",
            "29/29 [==============================] - 0s 4ms/step - loss: 0.5430 - accuracy: 0.7928 - val_loss: 0.2519 - val_accuracy: 0.9574\n",
            "Epoch 69/1000\n",
            "26/29 [=========================>....] - ETA: 0s - loss: 0.5543 - accuracy: 0.7758\n",
            "Epoch 69: saving model to model/keypoint_classifier\\keypoint_classifier.hdf5\n",
            "29/29 [==============================] - 0s 4ms/step - loss: 0.5535 - accuracy: 0.7755 - val_loss: 0.2481 - val_accuracy: 0.9599\n",
            "Epoch 70/1000\n",
            "25/29 [========================>.....] - ETA: 0s - loss: 0.5286 - accuracy: 0.7944\n",
            "Epoch 70: saving model to model/keypoint_classifier\\keypoint_classifier.hdf5\n",
            "29/29 [==============================] - 0s 5ms/step - loss: 0.5266 - accuracy: 0.7953 - val_loss: 0.2423 - val_accuracy: 0.9624\n",
            "Epoch 71/1000\n",
            "26/29 [=========================>....] - ETA: 0s - loss: 0.5568 - accuracy: 0.7837\n",
            "Epoch 71: saving model to model/keypoint_classifier\\keypoint_classifier.hdf5\n",
            "29/29 [==============================] - 0s 4ms/step - loss: 0.5602 - accuracy: 0.7819 - val_loss: 0.2411 - val_accuracy: 0.9632\n",
            "Epoch 72/1000\n",
            "25/29 [========================>.....] - ETA: 0s - loss: 0.5418 - accuracy: 0.7897\n",
            "Epoch 72: saving model to model/keypoint_classifier\\keypoint_classifier.hdf5\n",
            "29/29 [==============================] - 0s 4ms/step - loss: 0.5374 - accuracy: 0.7911 - val_loss: 0.2437 - val_accuracy: 0.9616\n",
            "Epoch 73/1000\n",
            "26/29 [=========================>....] - ETA: 0s - loss: 0.5343 - accuracy: 0.7885\n",
            "Epoch 73: saving model to model/keypoint_classifier\\keypoint_classifier.hdf5\n",
            "29/29 [==============================] - 0s 4ms/step - loss: 0.5421 - accuracy: 0.7872 - val_loss: 0.2394 - val_accuracy: 0.9683\n",
            "Epoch 74/1000\n",
            "27/29 [==========================>...] - ETA: 0s - loss: 0.5385 - accuracy: 0.7928\n",
            "Epoch 74: saving model to model/keypoint_classifier\\keypoint_classifier.hdf5\n",
            "29/29 [==============================] - 0s 4ms/step - loss: 0.5391 - accuracy: 0.7925 - val_loss: 0.2401 - val_accuracy: 0.9666\n",
            "Epoch 75/1000\n",
            "18/29 [=================>............] - ETA: 0s - loss: 0.5409 - accuracy: 0.7826\n",
            "Epoch 75: saving model to model/keypoint_classifier\\keypoint_classifier.hdf5\n",
            "29/29 [==============================] - 0s 5ms/step - loss: 0.5446 - accuracy: 0.7877 - val_loss: 0.2375 - val_accuracy: 0.9666\n",
            "Epoch 76/1000\n",
            "28/29 [===========================>..] - ETA: 0s - loss: 0.5544 - accuracy: 0.7765\n",
            "Epoch 76: saving model to model/keypoint_classifier\\keypoint_classifier.hdf5\n",
            "29/29 [==============================] - 0s 4ms/step - loss: 0.5543 - accuracy: 0.7766 - val_loss: 0.2424 - val_accuracy: 0.9674\n",
            "Epoch 77/1000\n",
            "26/29 [=========================>....] - ETA: 0s - loss: 0.5452 - accuracy: 0.7912\n",
            "Epoch 77: saving model to model/keypoint_classifier\\keypoint_classifier.hdf5\n",
            "29/29 [==============================] - 0s 4ms/step - loss: 0.5493 - accuracy: 0.7886 - val_loss: 0.2412 - val_accuracy: 0.9624\n",
            "Epoch 78/1000\n",
            "26/29 [=========================>....] - ETA: 0s - loss: 0.5496 - accuracy: 0.7927\n",
            "Epoch 78: saving model to model/keypoint_classifier\\keypoint_classifier.hdf5\n",
            "29/29 [==============================] - 0s 4ms/step - loss: 0.5476 - accuracy: 0.7922 - val_loss: 0.2401 - val_accuracy: 0.9666\n",
            "Epoch 79/1000\n",
            "27/29 [==========================>...] - ETA: 0s - loss: 0.5359 - accuracy: 0.7934\n",
            "Epoch 79: saving model to model/keypoint_classifier\\keypoint_classifier.hdf5\n",
            "29/29 [==============================] - 0s 4ms/step - loss: 0.5362 - accuracy: 0.7936 - val_loss: 0.2357 - val_accuracy: 0.9641\n",
            "Epoch 80/1000\n",
            "28/29 [===========================>..] - ETA: 0s - loss: 0.5280 - accuracy: 0.7983\n",
            "Epoch 80: saving model to model/keypoint_classifier\\keypoint_classifier.hdf5\n",
            "29/29 [==============================] - 0s 4ms/step - loss: 0.5289 - accuracy: 0.7978 - val_loss: 0.2323 - val_accuracy: 0.9683\n",
            "Epoch 81/1000\n",
            "27/29 [==========================>...] - ETA: 0s - loss: 0.5341 - accuracy: 0.7865\n",
            "Epoch 81: saving model to model/keypoint_classifier\\keypoint_classifier.hdf5\n",
            "29/29 [==============================] - 0s 4ms/step - loss: 0.5351 - accuracy: 0.7864 - val_loss: 0.2332 - val_accuracy: 0.9708\n",
            "Epoch 82/1000\n",
            " 1/29 [>.............................] - ETA: 0s - loss: 0.4441 - accuracy: 0.8438\n",
            "Epoch 82: saving model to model/keypoint_classifier\\keypoint_classifier.hdf5\n",
            "29/29 [==============================] - 0s 4ms/step - loss: 0.5380 - accuracy: 0.7897 - val_loss: 0.2306 - val_accuracy: 0.9716\n",
            "Epoch 83/1000\n",
            " 1/29 [>.............................] - ETA: 0s - loss: 0.5463 - accuracy: 0.8047\n",
            "Epoch 83: saving model to model/keypoint_classifier\\keypoint_classifier.hdf5\n",
            "29/29 [==============================] - 0s 4ms/step - loss: 0.5383 - accuracy: 0.7922 - val_loss: 0.2360 - val_accuracy: 0.9666\n",
            "Epoch 84/1000\n",
            "28/29 [===========================>..] - ETA: 0s - loss: 0.5490 - accuracy: 0.7888\n",
            "Epoch 84: saving model to model/keypoint_classifier\\keypoint_classifier.hdf5\n",
            "29/29 [==============================] - 0s 4ms/step - loss: 0.5499 - accuracy: 0.7883 - val_loss: 0.2331 - val_accuracy: 0.9733\n",
            "Epoch 85/1000\n",
            "26/29 [=========================>....] - ETA: 0s - loss: 0.5284 - accuracy: 0.7906\n",
            "Epoch 85: saving model to model/keypoint_classifier\\keypoint_classifier.hdf5\n",
            "29/29 [==============================] - 0s 4ms/step - loss: 0.5293 - accuracy: 0.7922 - val_loss: 0.2364 - val_accuracy: 0.9741\n",
            "Epoch 86/1000\n",
            "27/29 [==========================>...] - ETA: 0s - loss: 0.5122 - accuracy: 0.7948\n",
            "Epoch 86: saving model to model/keypoint_classifier\\keypoint_classifier.hdf5\n",
            "29/29 [==============================] - 0s 4ms/step - loss: 0.5135 - accuracy: 0.7942 - val_loss: 0.2321 - val_accuracy: 0.9708\n",
            "Epoch 87/1000\n",
            "28/29 [===========================>..] - ETA: 0s - loss: 0.5476 - accuracy: 0.7930\n",
            "Epoch 87: saving model to model/keypoint_classifier\\keypoint_classifier.hdf5\n",
            "29/29 [==============================] - 0s 4ms/step - loss: 0.5478 - accuracy: 0.7928 - val_loss: 0.2293 - val_accuracy: 0.9716\n",
            "Epoch 88/1000\n",
            "28/29 [===========================>..] - ETA: 0s - loss: 0.5252 - accuracy: 0.7985\n",
            "Epoch 88: saving model to model/keypoint_classifier\\keypoint_classifier.hdf5\n",
            "29/29 [==============================] - 0s 4ms/step - loss: 0.5254 - accuracy: 0.7986 - val_loss: 0.2287 - val_accuracy: 0.9724\n",
            "Epoch 89/1000\n",
            "27/29 [==========================>...] - ETA: 0s - loss: 0.5417 - accuracy: 0.7931\n",
            "Epoch 89: saving model to model/keypoint_classifier\\keypoint_classifier.hdf5\n",
            "29/29 [==============================] - 0s 4ms/step - loss: 0.5417 - accuracy: 0.7944 - val_loss: 0.2294 - val_accuracy: 0.9716\n",
            "Epoch 90/1000\n",
            " 1/29 [>.............................] - ETA: 0s - loss: 0.4519 - accuracy: 0.8125\n",
            "Epoch 90: saving model to model/keypoint_classifier\\keypoint_classifier.hdf5\n",
            "29/29 [==============================] - 0s 4ms/step - loss: 0.5334 - accuracy: 0.7930 - val_loss: 0.2291 - val_accuracy: 0.9716\n",
            "Epoch 91/1000\n",
            "29/29 [==============================] - ETA: 0s - loss: 0.5303 - accuracy: 0.7894\n",
            "Epoch 91: saving model to model/keypoint_classifier\\keypoint_classifier.hdf5\n",
            "29/29 [==============================] - 0s 4ms/step - loss: 0.5303 - accuracy: 0.7894 - val_loss: 0.2251 - val_accuracy: 0.9691\n",
            "Epoch 92/1000\n",
            " 1/29 [>.............................] - ETA: 0s - loss: 0.5513 - accuracy: 0.8047\n",
            "Epoch 92: saving model to model/keypoint_classifier\\keypoint_classifier.hdf5\n",
            "29/29 [==============================] - 0s 4ms/step - loss: 0.5066 - accuracy: 0.7986 - val_loss: 0.2226 - val_accuracy: 0.9641\n",
            "Epoch 93/1000\n",
            " 1/29 [>.............................] - ETA: 0s - loss: 0.4934 - accuracy: 0.7891\n",
            "Epoch 93: saving model to model/keypoint_classifier\\keypoint_classifier.hdf5\n",
            "29/29 [==============================] - 0s 4ms/step - loss: 0.5410 - accuracy: 0.7936 - val_loss: 0.2230 - val_accuracy: 0.9699\n",
            "Epoch 94/1000\n",
            "27/29 [==========================>...] - ETA: 0s - loss: 0.5222 - accuracy: 0.8012\n",
            "Epoch 94: saving model to model/keypoint_classifier\\keypoint_classifier.hdf5\n",
            "29/29 [==============================] - 0s 4ms/step - loss: 0.5211 - accuracy: 0.8014 - val_loss: 0.2261 - val_accuracy: 0.9724\n",
            "Epoch 95/1000\n",
            "27/29 [==========================>...] - ETA: 0s - loss: 0.5086 - accuracy: 0.7969\n",
            "Epoch 95: saving model to model/keypoint_classifier\\keypoint_classifier.hdf5\n",
            "29/29 [==============================] - 0s 4ms/step - loss: 0.5075 - accuracy: 0.7997 - val_loss: 0.2213 - val_accuracy: 0.9699\n",
            "Epoch 96/1000\n",
            "27/29 [==========================>...] - ETA: 0s - loss: 0.5219 - accuracy: 0.7940\n",
            "Epoch 96: saving model to model/keypoint_classifier\\keypoint_classifier.hdf5\n",
            "29/29 [==============================] - 0s 4ms/step - loss: 0.5221 - accuracy: 0.7955 - val_loss: 0.2267 - val_accuracy: 0.9708\n",
            "Epoch 97/1000\n",
            "27/29 [==========================>...] - ETA: 0s - loss: 0.4990 - accuracy: 0.8015\n",
            "Epoch 97: saving model to model/keypoint_classifier\\keypoint_classifier.hdf5\n",
            "29/29 [==============================] - 0s 4ms/step - loss: 0.4979 - accuracy: 0.8036 - val_loss: 0.2216 - val_accuracy: 0.9733\n",
            "Epoch 98/1000\n",
            "25/29 [========================>.....] - ETA: 0s - loss: 0.5056 - accuracy: 0.8072\n",
            "Epoch 98: saving model to model/keypoint_classifier\\keypoint_classifier.hdf5\n",
            "29/29 [==============================] - 0s 4ms/step - loss: 0.5125 - accuracy: 0.8067 - val_loss: 0.2170 - val_accuracy: 0.9741\n",
            "Epoch 99/1000\n",
            "25/29 [========================>.....] - ETA: 0s - loss: 0.5028 - accuracy: 0.8050\n",
            "Epoch 99: saving model to model/keypoint_classifier\\keypoint_classifier.hdf5\n",
            "29/29 [==============================] - 0s 4ms/step - loss: 0.5054 - accuracy: 0.8036 - val_loss: 0.2198 - val_accuracy: 0.9716\n",
            "Epoch 100/1000\n",
            "25/29 [========================>.....] - ETA: 0s - loss: 0.5225 - accuracy: 0.8009\n",
            "Epoch 100: saving model to model/keypoint_classifier\\keypoint_classifier.hdf5\n",
            "29/29 [==============================] - 0s 4ms/step - loss: 0.5164 - accuracy: 0.8028 - val_loss: 0.2187 - val_accuracy: 0.9716\n",
            "Epoch 101/1000\n",
            "25/29 [========================>.....] - ETA: 0s - loss: 0.5219 - accuracy: 0.8050\n",
            "Epoch 101: saving model to model/keypoint_classifier\\keypoint_classifier.hdf5\n",
            "29/29 [==============================] - 0s 5ms/step - loss: 0.5252 - accuracy: 0.8014 - val_loss: 0.2250 - val_accuracy: 0.9741\n",
            "Epoch 102/1000\n",
            "13/29 [============>.................] - ETA: 0s - loss: 0.5235 - accuracy: 0.7957\n",
            "Epoch 102: saving model to model/keypoint_classifier\\keypoint_classifier.hdf5\n",
            "29/29 [==============================] - 0s 5ms/step - loss: 0.5237 - accuracy: 0.7989 - val_loss: 0.2281 - val_accuracy: 0.9758\n",
            "Epoch 103/1000\n",
            "28/29 [===========================>..] - ETA: 0s - loss: 0.5284 - accuracy: 0.7944\n",
            "Epoch 103: saving model to model/keypoint_classifier\\keypoint_classifier.hdf5\n",
            "29/29 [==============================] - 0s 4ms/step - loss: 0.5285 - accuracy: 0.7944 - val_loss: 0.2253 - val_accuracy: 0.9741\n",
            "Epoch 104/1000\n",
            "25/29 [========================>.....] - ETA: 0s - loss: 0.5074 - accuracy: 0.8025\n",
            "Epoch 104: saving model to model/keypoint_classifier\\keypoint_classifier.hdf5\n",
            "29/29 [==============================] - 0s 4ms/step - loss: 0.5062 - accuracy: 0.8036 - val_loss: 0.2143 - val_accuracy: 0.9741\n",
            "Epoch 105/1000\n",
            "26/29 [=========================>....] - ETA: 0s - loss: 0.5188 - accuracy: 0.8002\n",
            "Epoch 105: saving model to model/keypoint_classifier\\keypoint_classifier.hdf5\n",
            "29/29 [==============================] - 0s 4ms/step - loss: 0.5213 - accuracy: 0.8011 - val_loss: 0.2131 - val_accuracy: 0.9724\n",
            "Epoch 106/1000\n",
            "25/29 [========================>.....] - ETA: 0s - loss: 0.5068 - accuracy: 0.8094\n",
            "Epoch 106: saving model to model/keypoint_classifier\\keypoint_classifier.hdf5\n",
            "29/29 [==============================] - 0s 5ms/step - loss: 0.5131 - accuracy: 0.8047 - val_loss: 0.2179 - val_accuracy: 0.9708\n",
            "Epoch 107/1000\n",
            "25/29 [========================>.....] - ETA: 0s - loss: 0.5128 - accuracy: 0.8069\n",
            "Epoch 107: saving model to model/keypoint_classifier\\keypoint_classifier.hdf5\n",
            "29/29 [==============================] - 0s 5ms/step - loss: 0.5147 - accuracy: 0.8056 - val_loss: 0.2123 - val_accuracy: 0.9733\n",
            "Epoch 108/1000\n",
            "26/29 [=========================>....] - ETA: 0s - loss: 0.5018 - accuracy: 0.8113\n",
            "Epoch 108: saving model to model/keypoint_classifier\\keypoint_classifier.hdf5\n",
            "29/29 [==============================] - 0s 4ms/step - loss: 0.4989 - accuracy: 0.8142 - val_loss: 0.2106 - val_accuracy: 0.9724\n",
            "Epoch 109/1000\n",
            "25/29 [========================>.....] - ETA: 0s - loss: 0.4996 - accuracy: 0.8069\n",
            "Epoch 109: saving model to model/keypoint_classifier\\keypoint_classifier.hdf5\n",
            "29/29 [==============================] - 0s 5ms/step - loss: 0.5074 - accuracy: 0.8036 - val_loss: 0.2123 - val_accuracy: 0.9691\n",
            "Epoch 110/1000\n",
            "23/29 [======================>.......] - ETA: 0s - loss: 0.5131 - accuracy: 0.7959\n",
            "Epoch 110: saving model to model/keypoint_classifier\\keypoint_classifier.hdf5\n",
            "29/29 [==============================] - 0s 5ms/step - loss: 0.5188 - accuracy: 0.7961 - val_loss: 0.2200 - val_accuracy: 0.9666\n",
            "Epoch 111/1000\n",
            "26/29 [=========================>....] - ETA: 0s - loss: 0.4968 - accuracy: 0.8131\n",
            "Epoch 111: saving model to model/keypoint_classifier\\keypoint_classifier.hdf5\n",
            "29/29 [==============================] - 0s 5ms/step - loss: 0.5037 - accuracy: 0.8111 - val_loss: 0.2184 - val_accuracy: 0.9741\n",
            "Epoch 112/1000\n",
            "26/29 [=========================>....] - ETA: 0s - loss: 0.5031 - accuracy: 0.8086\n",
            "Epoch 112: saving model to model/keypoint_classifier\\keypoint_classifier.hdf5\n",
            "29/29 [==============================] - 0s 5ms/step - loss: 0.5022 - accuracy: 0.8078 - val_loss: 0.2122 - val_accuracy: 0.9758\n",
            "Epoch 113/1000\n",
            "26/29 [=========================>....] - ETA: 0s - loss: 0.4969 - accuracy: 0.8089\n",
            "Epoch 113: saving model to model/keypoint_classifier\\keypoint_classifier.hdf5\n",
            "29/29 [==============================] - 0s 4ms/step - loss: 0.4923 - accuracy: 0.8117 - val_loss: 0.2114 - val_accuracy: 0.9758\n",
            "Epoch 114/1000\n",
            "28/29 [===========================>..] - ETA: 0s - loss: 0.5073 - accuracy: 0.8094\n",
            "Epoch 114: saving model to model/keypoint_classifier\\keypoint_classifier.hdf5\n",
            "29/29 [==============================] - 0s 4ms/step - loss: 0.5081 - accuracy: 0.8095 - val_loss: 0.2137 - val_accuracy: 0.9708\n",
            "Epoch 115/1000\n",
            "28/29 [===========================>..] - ETA: 0s - loss: 0.5057 - accuracy: 0.8064\n",
            "Epoch 115: saving model to model/keypoint_classifier\\keypoint_classifier.hdf5\n",
            "29/29 [==============================] - 0s 4ms/step - loss: 0.5061 - accuracy: 0.8064 - val_loss: 0.2213 - val_accuracy: 0.9733\n",
            "Epoch 116/1000\n",
            "26/29 [=========================>....] - ETA: 0s - loss: 0.5286 - accuracy: 0.7948\n",
            "Epoch 116: saving model to model/keypoint_classifier\\keypoint_classifier.hdf5\n",
            "29/29 [==============================] - 0s 4ms/step - loss: 0.5275 - accuracy: 0.7950 - val_loss: 0.2178 - val_accuracy: 0.9749\n",
            "Epoch 117/1000\n",
            "27/29 [==========================>...] - ETA: 0s - loss: 0.5151 - accuracy: 0.8035\n",
            "Epoch 117: saving model to model/keypoint_classifier\\keypoint_classifier.hdf5\n",
            "29/29 [==============================] - 0s 4ms/step - loss: 0.5126 - accuracy: 0.8039 - val_loss: 0.2144 - val_accuracy: 0.9724\n",
            "Epoch 118/1000\n",
            "12/29 [===========>..................] - ETA: 0s - loss: 0.5228 - accuracy: 0.8001\n",
            "Epoch 118: saving model to model/keypoint_classifier\\keypoint_classifier.hdf5\n",
            "29/29 [==============================] - 0s 5ms/step - loss: 0.5154 - accuracy: 0.8100 - val_loss: 0.2218 - val_accuracy: 0.9741\n",
            "Epoch 119/1000\n",
            "25/29 [========================>.....] - ETA: 0s - loss: 0.4916 - accuracy: 0.8163\n",
            "Epoch 119: saving model to model/keypoint_classifier\\keypoint_classifier.hdf5\n",
            "29/29 [==============================] - 0s 4ms/step - loss: 0.4905 - accuracy: 0.8170 - val_loss: 0.2168 - val_accuracy: 0.9758\n",
            "Epoch 120/1000\n",
            "27/29 [==========================>...] - ETA: 0s - loss: 0.5129 - accuracy: 0.7986\n",
            "Epoch 120: saving model to model/keypoint_classifier\\keypoint_classifier.hdf5\n",
            "29/29 [==============================] - 0s 4ms/step - loss: 0.5126 - accuracy: 0.7986 - val_loss: 0.2118 - val_accuracy: 0.9766\n",
            "Epoch 121/1000\n",
            "27/29 [==========================>...] - ETA: 0s - loss: 0.4993 - accuracy: 0.8079\n",
            "Epoch 121: saving model to model/keypoint_classifier\\keypoint_classifier.hdf5\n",
            "29/29 [==============================] - 0s 4ms/step - loss: 0.4983 - accuracy: 0.8081 - val_loss: 0.2138 - val_accuracy: 0.9774\n",
            "Epoch 122/1000\n",
            "27/29 [==========================>...] - ETA: 0s - loss: 0.4810 - accuracy: 0.8125\n",
            "Epoch 122: saving model to model/keypoint_classifier\\keypoint_classifier.hdf5\n",
            "29/29 [==============================] - 0s 4ms/step - loss: 0.4817 - accuracy: 0.8103 - val_loss: 0.2114 - val_accuracy: 0.9724\n",
            "Epoch 123/1000\n",
            "26/29 [=========================>....] - ETA: 0s - loss: 0.4990 - accuracy: 0.8095\n",
            "Epoch 123: saving model to model/keypoint_classifier\\keypoint_classifier.hdf5\n",
            "29/29 [==============================] - 0s 4ms/step - loss: 0.5009 - accuracy: 0.8084 - val_loss: 0.2139 - val_accuracy: 0.9758\n",
            "Epoch 124/1000\n",
            "25/29 [========================>.....] - ETA: 0s - loss: 0.4993 - accuracy: 0.8028\n",
            "Epoch 124: saving model to model/keypoint_classifier\\keypoint_classifier.hdf5\n",
            "29/29 [==============================] - 0s 4ms/step - loss: 0.4924 - accuracy: 0.8070 - val_loss: 0.2132 - val_accuracy: 0.9716\n",
            "Epoch 125/1000\n",
            "27/29 [==========================>...] - ETA: 0s - loss: 0.5040 - accuracy: 0.8058\n",
            "Epoch 125: saving model to model/keypoint_classifier\\keypoint_classifier.hdf5\n",
            "29/29 [==============================] - 0s 4ms/step - loss: 0.5029 - accuracy: 0.8067 - val_loss: 0.2145 - val_accuracy: 0.9733\n",
            "Epoch 126/1000\n",
            "28/29 [===========================>..] - ETA: 0s - loss: 0.4991 - accuracy: 0.8103\n",
            "Epoch 126: saving model to model/keypoint_classifier\\keypoint_classifier.hdf5\n",
            "29/29 [==============================] - 0s 4ms/step - loss: 0.4991 - accuracy: 0.8103 - val_loss: 0.2106 - val_accuracy: 0.9741\n",
            "Epoch 127/1000\n",
            "27/29 [==========================>...] - ETA: 0s - loss: 0.4896 - accuracy: 0.8151\n",
            "Epoch 127: saving model to model/keypoint_classifier\\keypoint_classifier.hdf5\n",
            "29/29 [==============================] - 0s 4ms/step - loss: 0.4903 - accuracy: 0.8153 - val_loss: 0.2087 - val_accuracy: 0.9724\n",
            "Epoch 128/1000\n",
            "27/29 [==========================>...] - ETA: 0s - loss: 0.5043 - accuracy: 0.8082\n",
            "Epoch 128: saving model to model/keypoint_classifier\\keypoint_classifier.hdf5\n",
            "29/29 [==============================] - 0s 4ms/step - loss: 0.5024 - accuracy: 0.8086 - val_loss: 0.2084 - val_accuracy: 0.9733\n",
            "Epoch 129/1000\n",
            "27/29 [==========================>...] - ETA: 0s - loss: 0.4911 - accuracy: 0.8099\n",
            "Epoch 129: saving model to model/keypoint_classifier\\keypoint_classifier.hdf5\n",
            "29/29 [==============================] - 0s 4ms/step - loss: 0.4917 - accuracy: 0.8086 - val_loss: 0.2068 - val_accuracy: 0.9741\n",
            "Epoch 130/1000\n",
            "25/29 [========================>.....] - ETA: 0s - loss: 0.5080 - accuracy: 0.8094\n",
            "Epoch 130: saving model to model/keypoint_classifier\\keypoint_classifier.hdf5\n",
            "29/29 [==============================] - 0s 4ms/step - loss: 0.5101 - accuracy: 0.8075 - val_loss: 0.2101 - val_accuracy: 0.9766\n",
            "Epoch 131/1000\n",
            "27/29 [==========================>...] - ETA: 0s - loss: 0.4855 - accuracy: 0.8174\n",
            "Epoch 131: saving model to model/keypoint_classifier\\keypoint_classifier.hdf5\n",
            "29/29 [==============================] - 0s 4ms/step - loss: 0.4873 - accuracy: 0.8184 - val_loss: 0.2086 - val_accuracy: 0.9749\n",
            "Epoch 132/1000\n",
            "27/29 [==========================>...] - ETA: 0s - loss: 0.4812 - accuracy: 0.8218\n",
            "Epoch 132: saving model to model/keypoint_classifier\\keypoint_classifier.hdf5\n",
            "29/29 [==============================] - 0s 6ms/step - loss: 0.4780 - accuracy: 0.8228 - val_loss: 0.2068 - val_accuracy: 0.9674\n",
            "Epoch 133/1000\n",
            "25/29 [========================>.....] - ETA: 0s - loss: 0.5043 - accuracy: 0.8072\n",
            "Epoch 133: saving model to model/keypoint_classifier\\keypoint_classifier.hdf5\n",
            "29/29 [==============================] - 0s 4ms/step - loss: 0.5018 - accuracy: 0.8097 - val_loss: 0.2105 - val_accuracy: 0.9733\n",
            "Epoch 134/1000\n",
            "28/29 [===========================>..] - ETA: 0s - loss: 0.4898 - accuracy: 0.8103\n",
            "Epoch 134: saving model to model/keypoint_classifier\\keypoint_classifier.hdf5\n",
            "29/29 [==============================] - 0s 4ms/step - loss: 0.4896 - accuracy: 0.8103 - val_loss: 0.2076 - val_accuracy: 0.9758\n",
            "Epoch 135/1000\n",
            "27/29 [==========================>...] - ETA: 0s - loss: 0.5006 - accuracy: 0.8079\n",
            "Epoch 135: saving model to model/keypoint_classifier\\keypoint_classifier.hdf5\n",
            "29/29 [==============================] - 0s 4ms/step - loss: 0.4968 - accuracy: 0.8095 - val_loss: 0.2077 - val_accuracy: 0.9716\n",
            "Epoch 136/1000\n",
            "26/29 [=========================>....] - ETA: 0s - loss: 0.4849 - accuracy: 0.8197\n",
            "Epoch 136: saving model to model/keypoint_classifier\\keypoint_classifier.hdf5\n",
            "29/29 [==============================] - 0s 4ms/step - loss: 0.4884 - accuracy: 0.8178 - val_loss: 0.2009 - val_accuracy: 0.9758\n",
            "Epoch 137/1000\n",
            "28/29 [===========================>..] - ETA: 0s - loss: 0.4782 - accuracy: 0.8167\n",
            "Epoch 137: saving model to model/keypoint_classifier\\keypoint_classifier.hdf5\n",
            "29/29 [==============================] - 0s 4ms/step - loss: 0.4780 - accuracy: 0.8167 - val_loss: 0.1978 - val_accuracy: 0.9749\n",
            "Epoch 138/1000\n",
            "25/29 [========================>.....] - ETA: 0s - loss: 0.5003 - accuracy: 0.8062\n",
            "Epoch 138: saving model to model/keypoint_classifier\\keypoint_classifier.hdf5\n",
            "29/29 [==============================] - 0s 4ms/step - loss: 0.4989 - accuracy: 0.8061 - val_loss: 0.1965 - val_accuracy: 0.9774\n",
            "Epoch 139/1000\n",
            "27/29 [==========================>...] - ETA: 0s - loss: 0.4886 - accuracy: 0.8096\n",
            "Epoch 139: saving model to model/keypoint_classifier\\keypoint_classifier.hdf5\n",
            "29/29 [==============================] - 0s 4ms/step - loss: 0.4912 - accuracy: 0.8078 - val_loss: 0.1993 - val_accuracy: 0.9783\n",
            "Epoch 140/1000\n",
            "27/29 [==========================>...] - ETA: 0s - loss: 0.4764 - accuracy: 0.8151\n",
            "Epoch 140: saving model to model/keypoint_classifier\\keypoint_classifier.hdf5\n",
            "29/29 [==============================] - 0s 4ms/step - loss: 0.4759 - accuracy: 0.8150 - val_loss: 0.1988 - val_accuracy: 0.9791\n",
            "Epoch 141/1000\n",
            "26/29 [=========================>....] - ETA: 0s - loss: 0.4766 - accuracy: 0.8143\n",
            "Epoch 141: saving model to model/keypoint_classifier\\keypoint_classifier.hdf5\n",
            "29/29 [==============================] - 0s 4ms/step - loss: 0.4761 - accuracy: 0.8162 - val_loss: 0.2007 - val_accuracy: 0.9766\n",
            "Epoch 142/1000\n",
            "28/29 [===========================>..] - ETA: 0s - loss: 0.4890 - accuracy: 0.8128\n",
            "Epoch 142: saving model to model/keypoint_classifier\\keypoint_classifier.hdf5\n",
            "29/29 [==============================] - 0s 4ms/step - loss: 0.4887 - accuracy: 0.8131 - val_loss: 0.1987 - val_accuracy: 0.9758\n",
            "Epoch 143/1000\n",
            "28/29 [===========================>..] - ETA: 0s - loss: 0.4951 - accuracy: 0.8097\n",
            "Epoch 143: saving model to model/keypoint_classifier\\keypoint_classifier.hdf5\n",
            "29/29 [==============================] - 0s 4ms/step - loss: 0.4946 - accuracy: 0.8097 - val_loss: 0.2005 - val_accuracy: 0.9791\n",
            "Epoch 144/1000\n",
            "28/29 [===========================>..] - ETA: 0s - loss: 0.4812 - accuracy: 0.8158\n",
            "Epoch 144: saving model to model/keypoint_classifier\\keypoint_classifier.hdf5\n",
            "29/29 [==============================] - 0s 4ms/step - loss: 0.4820 - accuracy: 0.8153 - val_loss: 0.1982 - val_accuracy: 0.9749\n",
            "Epoch 145/1000\n",
            "25/29 [========================>.....] - ETA: 0s - loss: 0.4867 - accuracy: 0.8084\n",
            "Epoch 145: saving model to model/keypoint_classifier\\keypoint_classifier.hdf5\n",
            "29/29 [==============================] - 0s 4ms/step - loss: 0.4893 - accuracy: 0.8067 - val_loss: 0.1965 - val_accuracy: 0.9774\n",
            "Epoch 146/1000\n",
            "27/29 [==========================>...] - ETA: 0s - loss: 0.4691 - accuracy: 0.8255\n",
            "Epoch 146: saving model to model/keypoint_classifier\\keypoint_classifier.hdf5\n",
            "29/29 [==============================] - 0s 4ms/step - loss: 0.4679 - accuracy: 0.8251 - val_loss: 0.1981 - val_accuracy: 0.9766\n",
            "Epoch 147/1000\n",
            "19/29 [==================>...........] - ETA: 0s - loss: 0.5041 - accuracy: 0.8022\n",
            "Epoch 147: saving model to model/keypoint_classifier\\keypoint_classifier.hdf5\n",
            "29/29 [==============================] - 0s 5ms/step - loss: 0.4972 - accuracy: 0.8045 - val_loss: 0.1996 - val_accuracy: 0.9758\n",
            "Epoch 148/1000\n",
            "27/29 [==========================>...] - ETA: 0s - loss: 0.4778 - accuracy: 0.8218\n",
            "Epoch 148: saving model to model/keypoint_classifier\\keypoint_classifier.hdf5\n",
            "29/29 [==============================] - 0s 4ms/step - loss: 0.4765 - accuracy: 0.8214 - val_loss: 0.1976 - val_accuracy: 0.9766\n",
            "Epoch 149/1000\n",
            "29/29 [==============================] - ETA: 0s - loss: 0.4571 - accuracy: 0.8150\n",
            "Epoch 149: saving model to model/keypoint_classifier\\keypoint_classifier.hdf5\n",
            "29/29 [==============================] - 0s 4ms/step - loss: 0.4571 - accuracy: 0.8150 - val_loss: 0.1959 - val_accuracy: 0.9766\n",
            "Epoch 150/1000\n",
            "26/29 [=========================>....] - ETA: 0s - loss: 0.4714 - accuracy: 0.8275\n",
            "Epoch 150: saving model to model/keypoint_classifier\\keypoint_classifier.hdf5\n",
            "29/29 [==============================] - 0s 4ms/step - loss: 0.4699 - accuracy: 0.8287 - val_loss: 0.1957 - val_accuracy: 0.9791\n",
            "Epoch 151/1000\n",
            "21/29 [====================>.........] - ETA: 0s - loss: 0.4581 - accuracy: 0.8263\n",
            "Epoch 151: saving model to model/keypoint_classifier\\keypoint_classifier.hdf5\n",
            "29/29 [==============================] - 0s 5ms/step - loss: 0.4639 - accuracy: 0.8281 - val_loss: 0.1936 - val_accuracy: 0.9758\n",
            "Epoch 152/1000\n",
            "24/29 [=======================>......] - ETA: 0s - loss: 0.4812 - accuracy: 0.8219\n",
            "Epoch 152: saving model to model/keypoint_classifier\\keypoint_classifier.hdf5\n",
            "29/29 [==============================] - 0s 4ms/step - loss: 0.4772 - accuracy: 0.8256 - val_loss: 0.1969 - val_accuracy: 0.9783\n",
            "Epoch 153/1000\n",
            "27/29 [==========================>...] - ETA: 0s - loss: 0.4629 - accuracy: 0.8249\n",
            "Epoch 153: saving model to model/keypoint_classifier\\keypoint_classifier.hdf5\n",
            "29/29 [==============================] - 0s 4ms/step - loss: 0.4655 - accuracy: 0.8242 - val_loss: 0.1961 - val_accuracy: 0.9758\n",
            "Epoch 154/1000\n",
            "25/29 [========================>.....] - ETA: 0s - loss: 0.4568 - accuracy: 0.8250\n",
            "Epoch 154: saving model to model/keypoint_classifier\\keypoint_classifier.hdf5\n",
            "29/29 [==============================] - 0s 4ms/step - loss: 0.4656 - accuracy: 0.8226 - val_loss: 0.1949 - val_accuracy: 0.9766\n",
            "Epoch 155/1000\n",
            "27/29 [==========================>...] - ETA: 0s - loss: 0.4639 - accuracy: 0.8247\n",
            "Epoch 155: saving model to model/keypoint_classifier\\keypoint_classifier.hdf5\n",
            "29/29 [==============================] - 0s 4ms/step - loss: 0.4659 - accuracy: 0.8253 - val_loss: 0.1896 - val_accuracy: 0.9766\n",
            "Epoch 156/1000\n",
            "24/29 [=======================>......] - ETA: 0s - loss: 0.4682 - accuracy: 0.8317\n",
            "Epoch 156: saving model to model/keypoint_classifier\\keypoint_classifier.hdf5\n",
            "29/29 [==============================] - 0s 5ms/step - loss: 0.4720 - accuracy: 0.8248 - val_loss: 0.1915 - val_accuracy: 0.9766\n",
            "Epoch 157/1000\n",
            "23/29 [======================>.......] - ETA: 0s - loss: 0.4989 - accuracy: 0.8094\n",
            "Epoch 157: saving model to model/keypoint_classifier\\keypoint_classifier.hdf5\n",
            "29/29 [==============================] - 0s 5ms/step - loss: 0.4889 - accuracy: 0.8150 - val_loss: 0.1924 - val_accuracy: 0.9758\n",
            "Epoch 158/1000\n",
            "25/29 [========================>.....] - ETA: 0s - loss: 0.4839 - accuracy: 0.8169\n",
            "Epoch 158: saving model to model/keypoint_classifier\\keypoint_classifier.hdf5\n",
            "29/29 [==============================] - 0s 5ms/step - loss: 0.4872 - accuracy: 0.8153 - val_loss: 0.1925 - val_accuracy: 0.9791\n",
            "Epoch 159/1000\n",
            "22/29 [=====================>........] - ETA: 0s - loss: 0.4889 - accuracy: 0.8121\n",
            "Epoch 159: saving model to model/keypoint_classifier\\keypoint_classifier.hdf5\n",
            "29/29 [==============================] - 0s 5ms/step - loss: 0.4819 - accuracy: 0.8212 - val_loss: 0.1948 - val_accuracy: 0.9758\n",
            "Epoch 160/1000\n",
            "23/29 [======================>.......] - ETA: 0s - loss: 0.4728 - accuracy: 0.8234\n",
            "Epoch 160: saving model to model/keypoint_classifier\\keypoint_classifier.hdf5\n",
            "29/29 [==============================] - 0s 5ms/step - loss: 0.4725 - accuracy: 0.8217 - val_loss: 0.1957 - val_accuracy: 0.9791\n",
            "Epoch 161/1000\n",
            "23/29 [======================>.......] - ETA: 0s - loss: 0.4798 - accuracy: 0.8196\n",
            "Epoch 161: saving model to model/keypoint_classifier\\keypoint_classifier.hdf5\n",
            "29/29 [==============================] - 0s 5ms/step - loss: 0.4841 - accuracy: 0.8175 - val_loss: 0.1934 - val_accuracy: 0.9766\n",
            "Epoch 162/1000\n",
            "24/29 [=======================>......] - ETA: 0s - loss: 0.4771 - accuracy: 0.8151\n",
            "Epoch 162: saving model to model/keypoint_classifier\\keypoint_classifier.hdf5\n",
            "29/29 [==============================] - 0s 6ms/step - loss: 0.4780 - accuracy: 0.8134 - val_loss: 0.1917 - val_accuracy: 0.9774\n",
            "Epoch 163/1000\n",
            "23/29 [======================>.......] - ETA: 0s - loss: 0.4618 - accuracy: 0.8237\n",
            "Epoch 163: saving model to model/keypoint_classifier\\keypoint_classifier.hdf5\n",
            "29/29 [==============================] - 0s 5ms/step - loss: 0.4713 - accuracy: 0.8167 - val_loss: 0.1947 - val_accuracy: 0.9741\n",
            "Epoch 164/1000\n",
            "28/29 [===========================>..] - ETA: 0s - loss: 0.4859 - accuracy: 0.8117\n",
            "Epoch 164: saving model to model/keypoint_classifier\\keypoint_classifier.hdf5\n",
            "29/29 [==============================] - 0s 4ms/step - loss: 0.4857 - accuracy: 0.8117 - val_loss: 0.1991 - val_accuracy: 0.9758\n",
            "Epoch 165/1000\n",
            "25/29 [========================>.....] - ETA: 0s - loss: 0.4490 - accuracy: 0.8338\n",
            "Epoch 165: saving model to model/keypoint_classifier\\keypoint_classifier.hdf5\n",
            "29/29 [==============================] - 0s 5ms/step - loss: 0.4513 - accuracy: 0.8329 - val_loss: 0.1938 - val_accuracy: 0.9774\n",
            "Epoch 166/1000\n",
            "22/29 [=====================>........] - ETA: 0s - loss: 0.4748 - accuracy: 0.8224\n",
            "Epoch 166: saving model to model/keypoint_classifier\\keypoint_classifier.hdf5\n",
            "29/29 [==============================] - 0s 5ms/step - loss: 0.4796 - accuracy: 0.8223 - val_loss: 0.1935 - val_accuracy: 0.9766\n",
            "Epoch 167/1000\n",
            "23/29 [======================>.......] - ETA: 0s - loss: 0.4683 - accuracy: 0.8217\n",
            "Epoch 167: saving model to model/keypoint_classifier\\keypoint_classifier.hdf5\n",
            "29/29 [==============================] - 0s 5ms/step - loss: 0.4637 - accuracy: 0.8228 - val_loss: 0.1921 - val_accuracy: 0.9766\n",
            "Epoch 168/1000\n",
            "23/29 [======================>.......] - ETA: 0s - loss: 0.4753 - accuracy: 0.8203\n",
            "Epoch 168: saving model to model/keypoint_classifier\\keypoint_classifier.hdf5\n",
            "29/29 [==============================] - 0s 5ms/step - loss: 0.4725 - accuracy: 0.8209 - val_loss: 0.1936 - val_accuracy: 0.9766\n",
            "Epoch 169/1000\n",
            "23/29 [======================>.......] - ETA: 0s - loss: 0.4749 - accuracy: 0.8257\n",
            "Epoch 169: saving model to model/keypoint_classifier\\keypoint_classifier.hdf5\n",
            "29/29 [==============================] - 0s 5ms/step - loss: 0.4684 - accuracy: 0.8290 - val_loss: 0.1973 - val_accuracy: 0.9783\n",
            "Epoch 170/1000\n",
            "22/29 [=====================>........] - ETA: 0s - loss: 0.4637 - accuracy: 0.8203\n",
            "Epoch 170: saving model to model/keypoint_classifier\\keypoint_classifier.hdf5\n",
            "29/29 [==============================] - 0s 6ms/step - loss: 0.4642 - accuracy: 0.8228 - val_loss: 0.1929 - val_accuracy: 0.9791\n",
            "Epoch 171/1000\n",
            "22/29 [=====================>........] - ETA: 0s - loss: 0.4675 - accuracy: 0.8232\n",
            "Epoch 171: saving model to model/keypoint_classifier\\keypoint_classifier.hdf5\n",
            "29/29 [==============================] - 0s 5ms/step - loss: 0.4601 - accuracy: 0.8259 - val_loss: 0.1928 - val_accuracy: 0.9808\n",
            "Epoch 172/1000\n",
            "25/29 [========================>.....] - ETA: 0s - loss: 0.4498 - accuracy: 0.8316\n",
            "Epoch 172: saving model to model/keypoint_classifier\\keypoint_classifier.hdf5\n",
            "29/29 [==============================] - 0s 4ms/step - loss: 0.4521 - accuracy: 0.8292 - val_loss: 0.1852 - val_accuracy: 0.9808\n",
            "Epoch 173/1000\n",
            "27/29 [==========================>...] - ETA: 0s - loss: 0.4629 - accuracy: 0.8252\n",
            "Epoch 173: saving model to model/keypoint_classifier\\keypoint_classifier.hdf5\n",
            "29/29 [==============================] - 0s 4ms/step - loss: 0.4610 - accuracy: 0.8262 - val_loss: 0.1847 - val_accuracy: 0.9774\n",
            "Epoch 174/1000\n",
            "28/29 [===========================>..] - ETA: 0s - loss: 0.4940 - accuracy: 0.8158\n",
            "Epoch 174: saving model to model/keypoint_classifier\\keypoint_classifier.hdf5\n",
            "29/29 [==============================] - 0s 4ms/step - loss: 0.4933 - accuracy: 0.8162 - val_loss: 0.1917 - val_accuracy: 0.9808\n",
            "Epoch 175/1000\n",
            "27/29 [==========================>...] - ETA: 0s - loss: 0.4781 - accuracy: 0.8235\n",
            "Epoch 175: saving model to model/keypoint_classifier\\keypoint_classifier.hdf5\n",
            "29/29 [==============================] - 0s 4ms/step - loss: 0.4798 - accuracy: 0.8234 - val_loss: 0.1984 - val_accuracy: 0.9808\n",
            "Epoch 176/1000\n",
            "27/29 [==========================>...] - ETA: 0s - loss: 0.4727 - accuracy: 0.8255\n",
            "Epoch 176: saving model to model/keypoint_classifier\\keypoint_classifier.hdf5\n",
            "29/29 [==============================] - 0s 4ms/step - loss: 0.4730 - accuracy: 0.8259 - val_loss: 0.1939 - val_accuracy: 0.9799\n",
            "Epoch 177/1000\n",
            "12/29 [===========>..................] - ETA: 0s - loss: 0.4554 - accuracy: 0.8249\n",
            "Epoch 177: saving model to model/keypoint_classifier\\keypoint_classifier.hdf5\n",
            "29/29 [==============================] - 0s 6ms/step - loss: 0.4520 - accuracy: 0.8315 - val_loss: 0.1906 - val_accuracy: 0.9791\n",
            "Epoch 178/1000\n",
            "29/29 [==============================] - ETA: 0s - loss: 0.4726 - accuracy: 0.8301\n",
            "Epoch 178: saving model to model/keypoint_classifier\\keypoint_classifier.hdf5\n",
            "29/29 [==============================] - 0s 4ms/step - loss: 0.4726 - accuracy: 0.8301 - val_loss: 0.1948 - val_accuracy: 0.9799\n",
            "Epoch 179/1000\n",
            "28/29 [===========================>..] - ETA: 0s - loss: 0.4598 - accuracy: 0.8262\n",
            "Epoch 179: saving model to model/keypoint_classifier\\keypoint_classifier.hdf5\n",
            "29/29 [==============================] - 0s 4ms/step - loss: 0.4597 - accuracy: 0.8259 - val_loss: 0.1877 - val_accuracy: 0.9791\n",
            "Epoch 180/1000\n",
            "28/29 [===========================>..] - ETA: 0s - loss: 0.4577 - accuracy: 0.8245\n",
            "Epoch 180: saving model to model/keypoint_classifier\\keypoint_classifier.hdf5\n",
            "29/29 [==============================] - 0s 4ms/step - loss: 0.4576 - accuracy: 0.8245 - val_loss: 0.1905 - val_accuracy: 0.9791\n",
            "Epoch 181/1000\n",
            "27/29 [==========================>...] - ETA: 0s - loss: 0.4680 - accuracy: 0.8244\n",
            "Epoch 181: saving model to model/keypoint_classifier\\keypoint_classifier.hdf5\n",
            "29/29 [==============================] - 0s 4ms/step - loss: 0.4667 - accuracy: 0.8256 - val_loss: 0.1923 - val_accuracy: 0.9816\n",
            "Epoch 182/1000\n",
            "27/29 [==========================>...] - ETA: 0s - loss: 0.4534 - accuracy: 0.8247\n",
            "Epoch 182: saving model to model/keypoint_classifier\\keypoint_classifier.hdf5\n",
            "29/29 [==============================] - 0s 4ms/step - loss: 0.4559 - accuracy: 0.8245 - val_loss: 0.1881 - val_accuracy: 0.9825\n",
            "Epoch 183/1000\n",
            "27/29 [==========================>...] - ETA: 0s - loss: 0.4693 - accuracy: 0.8226\n",
            "Epoch 183: saving model to model/keypoint_classifier\\keypoint_classifier.hdf5\n",
            "29/29 [==============================] - 0s 4ms/step - loss: 0.4647 - accuracy: 0.8231 - val_loss: 0.1859 - val_accuracy: 0.9799\n",
            "Epoch 184/1000\n",
            " 1/29 [>.............................] - ETA: 0s - loss: 0.4568 - accuracy: 0.8359\n",
            "Epoch 184: saving model to model/keypoint_classifier\\keypoint_classifier.hdf5\n",
            "29/29 [==============================] - 0s 4ms/step - loss: 0.4604 - accuracy: 0.8284 - val_loss: 0.1862 - val_accuracy: 0.9808\n",
            "Epoch 185/1000\n",
            "26/29 [=========================>....] - ETA: 0s - loss: 0.4457 - accuracy: 0.8317\n",
            "Epoch 185: saving model to model/keypoint_classifier\\keypoint_classifier.hdf5\n",
            "29/29 [==============================] - 0s 5ms/step - loss: 0.4376 - accuracy: 0.8348 - val_loss: 0.1889 - val_accuracy: 0.9774\n",
            "Epoch 186/1000\n",
            "22/29 [=====================>........] - ETA: 0s - loss: 0.4699 - accuracy: 0.8271\n",
            "Epoch 186: saving model to model/keypoint_classifier\\keypoint_classifier.hdf5\n",
            "29/29 [==============================] - 0s 5ms/step - loss: 0.4619 - accuracy: 0.8287 - val_loss: 0.1877 - val_accuracy: 0.9783\n",
            "Epoch 187/1000\n",
            "27/29 [==========================>...] - ETA: 0s - loss: 0.4549 - accuracy: 0.8281\n",
            "Epoch 187: saving model to model/keypoint_classifier\\keypoint_classifier.hdf5\n",
            "29/29 [==============================] - 0s 4ms/step - loss: 0.4545 - accuracy: 0.8287 - val_loss: 0.1897 - val_accuracy: 0.9799\n",
            "Epoch 188/1000\n",
            "25/29 [========================>.....] - ETA: 0s - loss: 0.4926 - accuracy: 0.8116\n",
            "Epoch 188: saving model to model/keypoint_classifier\\keypoint_classifier.hdf5\n",
            "29/29 [==============================] - 0s 5ms/step - loss: 0.4913 - accuracy: 0.8142 - val_loss: 0.1892 - val_accuracy: 0.9799\n",
            "Epoch 189/1000\n",
            "24/29 [=======================>......] - ETA: 0s - loss: 0.4689 - accuracy: 0.8255\n",
            "Epoch 189: saving model to model/keypoint_classifier\\keypoint_classifier.hdf5\n",
            "29/29 [==============================] - 0s 5ms/step - loss: 0.4727 - accuracy: 0.8245 - val_loss: 0.1880 - val_accuracy: 0.9783\n",
            "Epoch 190/1000\n",
            "28/29 [===========================>..] - ETA: 0s - loss: 0.4649 - accuracy: 0.8281\n",
            "Epoch 190: saving model to model/keypoint_classifier\\keypoint_classifier.hdf5\n",
            "29/29 [==============================] - 0s 4ms/step - loss: 0.4648 - accuracy: 0.8281 - val_loss: 0.1996 - val_accuracy: 0.9733\n",
            "Epoch 191/1000\n",
            "26/29 [=========================>....] - ETA: 0s - loss: 0.4677 - accuracy: 0.8182\n",
            "Epoch 191: saving model to model/keypoint_classifier\\keypoint_classifier.hdf5\n",
            "29/29 [==============================] - 0s 4ms/step - loss: 0.4730 - accuracy: 0.8181 - val_loss: 0.1927 - val_accuracy: 0.9799\n",
            "Epoch 192/1000\n",
            "11/29 [==========>...................] - ETA: 0s - loss: 0.4673 - accuracy: 0.8125\n",
            "Epoch 192: saving model to model/keypoint_classifier\\keypoint_classifier.hdf5\n",
            "29/29 [==============================] - 0s 6ms/step - loss: 0.4649 - accuracy: 0.8192 - val_loss: 0.1998 - val_accuracy: 0.9733\n",
            "Epoch 193/1000\n",
            "28/29 [===========================>..] - ETA: 0s - loss: 0.4476 - accuracy: 0.8348\n",
            "Epoch 193: saving model to model/keypoint_classifier\\keypoint_classifier.hdf5\n",
            "29/29 [==============================] - 0s 4ms/step - loss: 0.4475 - accuracy: 0.8345 - val_loss: 0.1926 - val_accuracy: 0.9766\n",
            "Epoch 193: early stopping\n"
          ]
        },
        {
          "data": {
            "text/plain": [
              "<keras.callbacks.History at 0x1843192e6a0>"
            ]
          },
          "execution_count": 61,
          "metadata": {},
          "output_type": "execute_result"
        }
      ],
      "source": [
        "model.fit(\n",
        "    X_train,\n",
        "    y_train,\n",
        "    epochs=1000,\n",
        "    batch_size=128,\n",
        "    validation_data=(X_test, y_test),\n",
        "    callbacks=[cp_callback, es_callback]\n",
        ")"
      ]
    },
    {
      "cell_type": "code",
      "execution_count": 62,
      "metadata": {
        "colab": {
          "base_uri": "https://localhost:8080/"
        },
        "id": "pxvb2Y299hE3",
        "outputId": "59eb3185-2e37-4b9e-bc9d-ab1b8ac29b7f"
      },
      "outputs": [
        {
          "name": "stdout",
          "output_type": "stream",
          "text": [
            "10/10 [==============================] - 0s 2ms/step - loss: 0.1926 - accuracy: 0.9766\n"
          ]
        }
      ],
      "source": [
        "# Model evaluation\n",
        "val_loss, val_acc = model.evaluate(X_test, y_test, batch_size=128)"
      ]
    },
    {
      "cell_type": "code",
      "execution_count": 63,
      "metadata": {
        "id": "RBkmDeUW9hE4"
      },
      "outputs": [],
      "source": [
        "# Loading the saved model\n",
        "model = tf.keras.models.load_model(model_save_path)"
      ]
    },
    {
      "cell_type": "code",
      "execution_count": 64,
      "metadata": {
        "colab": {
          "base_uri": "https://localhost:8080/"
        },
        "id": "tFz9Tb0I9hE4",
        "outputId": "1c3b3528-54ae-4ee2-ab04-77429211cbef"
      },
      "outputs": [
        {
          "name": "stdout",
          "output_type": "stream",
          "text": [
            "1/1 [==============================] - 0s 75ms/step\n",
            "[8.9837545e-01 1.0131941e-01 2.8691479e-04 1.8198540e-05]\n",
            "0\n"
          ]
        }
      ],
      "source": [
        "# Inference test\n",
        "predict_result = model.predict(np.array([X_test[0]]))\n",
        "print(np.squeeze(predict_result))\n",
        "print(np.argmax(np.squeeze(predict_result)))"
      ]
    },
    {
      "cell_type": "markdown",
      "metadata": {
        "id": "S3U4yNWx9hE4"
      },
      "source": [
        "# Confusion matrix"
      ]
    },
    {
      "cell_type": "code",
      "execution_count": 65,
      "metadata": {
        "colab": {
          "base_uri": "https://localhost:8080/",
          "height": 582
        },
        "id": "AP1V6SCk9hE5",
        "outputId": "08e41a80-7a4a-4619-8125-ecc371368d19"
      },
      "outputs": [
        {
          "name": "stdout",
          "output_type": "stream",
          "text": [
            "38/38 [==============================] - 0s 2ms/step\n"
          ]
        },
        {
          "data": {
            "image/png": "[encoded data removed]",
            "text/plain": [
              "<Figure size 504x432 with 2 Axes>"
            ]
          },
          "metadata": {
            "needs_background": "light"
          },
          "output_type": "display_data"
        },
        {
          "name": "stdout",
          "output_type": "stream",
          "text": [
            "Classification Report\n",
            "              precision    recall  f1-score   support\n",
            "\n",
            "           0       0.99      0.99      0.99       402\n",
            "           1       0.98      0.95      0.96       366\n",
            "           2       0.96      0.98      0.97       343\n",
            "           3       1.00      1.00      1.00        86\n",
            "\n",
            "    accuracy                           0.98      1197\n",
            "   macro avg       0.98      0.98      0.98      1197\n",
            "weighted avg       0.98      0.98      0.98      1197\n",
            "\n"
          ]
        }
      ],
      "source": [
        "import pandas as pd\n",
        "import seaborn as sns\n",
        "import matplotlib.pyplot as plt\n",
        "from sklearn.metrics import confusion_matrix, classification_report\n",
        "\n",
        "def print_confusion_matrix(y_true, y_pred, report=True):\n",
        "    labels = sorted(list(set(y_true)))\n",
        "    cmx_data = confusion_matrix(y_true, y_pred, labels=labels)\n",
        "    \n",
        "    df_cmx = pd.DataFrame(cmx_data, index=labels, columns=labels)\n",
        " \n",
        "    fig, ax = plt.subplots(figsize=(7, 6))\n",
        "    sns.heatmap(df_cmx, annot=True, fmt='g' ,square=False)\n",
        "    ax.set_ylim(len(set(y_true)), 0)\n",
        "    plt.show()\n",
        "    \n",
        "    if report:\n",
        "        print('Classification Report')\n",
        "        print(classification_report(y_test, y_pred))\n",
        "\n",
        "Y_pred = model.predict(X_test)\n",
        "y_pred = np.argmax(Y_pred, axis=1)\n",
        "\n",
        "print_confusion_matrix(y_test, y_pred)"
      ]
    },
    {
      "cell_type": "markdown",
      "metadata": {
        "id": "FNP6aqzc9hE5"
      },
      "source": [
        "# Convert to model for Tensorflow-Lite"
      ]
    },
    {
      "cell_type": "code",
      "execution_count": 66,
      "metadata": {
        "id": "ODjnYyld9hE6"
      },
      "outputs": [],
      "source": [
        "# Save as a model dedicated to inference\n",
        "model.save(model_save_path, include_optimizer=False)"
      ]
    },
    {
      "cell_type": "code",
      "execution_count": 67,
      "metadata": {
        "colab": {
          "base_uri": "https://localhost:8080/"
        },
        "id": "zRfuK8Y59hE6",
        "outputId": "a4ca585c-b5d5-4244-8291-8674063209bb"
      },
      "outputs": [
        {
          "name": "stderr",
          "output_type": "stream",
          "text": [
            "WARNING:absl:Found untraced functions such as _update_step_xla while saving (showing 1 of 1). These functions will not be directly callable after loading.\n"
          ]
        },
        {
          "name": "stdout",
          "output_type": "stream",
          "text": [
            "INFO:tensorflow:Assets written to: C:\\Users\\hp\\AppData\\Local\\Temp\\tmpdy8ls1qw\\assets\n"
          ]
        },
        {
          "name": "stderr",
          "output_type": "stream",
          "text": [
            "INFO:tensorflow:Assets written to: C:\\Users\\hp\\AppData\\Local\\Temp\\tmpdy8ls1qw\\assets\n"
          ]
        },
        {
          "data": {
            "text/plain": [
              "6572"
            ]
          },
          "execution_count": 67,
          "metadata": {},
          "output_type": "execute_result"
        }
      ],
      "source": [
        "# Transform model (quantization)\n",
        "\n",
        "converter = tf.lite.TFLiteConverter.from_keras_model(model)\n",
        "converter.optimizations = [tf.lite.Optimize.DEFAULT]\n",
        "tflite_quantized_model = converter.convert()\n",
        "\n",
        "open(tflite_save_path, 'wb').write(tflite_quantized_model)"
      ]
    },
    {
      "cell_type": "markdown",
      "metadata": {
        "id": "CHBPBXdx9hE6"
      },
      "source": [
        "# Inference test"
      ]
    },
    {
      "cell_type": "code",
      "execution_count": 68,
      "metadata": {
        "id": "mGAzLocO9hE7"
      },
      "outputs": [],
      "source": [
        "interpreter = tf.lite.Interpreter(model_path=tflite_save_path)\n",
        "interpreter.allocate_tensors()"
      ]
    },
    {
      "cell_type": "code",
      "execution_count": 69,
      "metadata": {
        "id": "oQuDK8YS9hE7"
      },
      "outputs": [],
      "source": [
        "# Get I / O tensor\n",
        "input_details = interpreter.get_input_details()\n",
        "output_details = interpreter.get_output_details()"
      ]
    },
    {
      "cell_type": "code",
      "execution_count": 70,
      "metadata": {
        "id": "2_ixAf_l9hE7"
      },
      "outputs": [],
      "source": [
        "interpreter.set_tensor(input_details[0]['index'], np.array([X_test[0]]))"
      ]
    },
    {
      "cell_type": "code",
      "execution_count": 71,
      "metadata": {
        "colab": {
          "base_uri": "https://localhost:8080/"
        },
        "id": "s4FoAnuc9hE7",
        "outputId": "91f18257-8d8b-4ef3-c558-e9b5f94fabbf",
        "scrolled": true
      },
      "outputs": [
        {
          "name": "stdout",
          "output_type": "stream",
          "text": [
            "Wall time: 0 ns\n"
          ]
        }
      ],
      "source": [
        "%%time\n",
        "# Inference implementation\n",
        "interpreter.invoke()\n",
        "tflite_results = interpreter.get_tensor(output_details[0]['index'])"
      ]
    },
    {
      "cell_type": "code",
      "execution_count": 72,
      "metadata": {
        "colab": {
          "base_uri": "https://localhost:8080/"
        },
        "id": "vONjp19J9hE8",
        "outputId": "77205e24-fd00-42c4-f7b6-e06e527c2cba"
      },
      "outputs": [
        {
          "name": "stdout",
          "output_type": "stream",
          "text": [
            "[8.9837545e-01 1.0131936e-01 2.8691482e-04 1.8198523e-05]\n",
            "0\n"
          ]
        }
      ],
      "source": [
        "print(np.squeeze(tflite_results))\n",
        "print(np.argmax(np.squeeze(tflite_results)))"
      ]
    }
  ],
  "metadata": {
    "accelerator": "GPU",
    "colab": {
      "collapsed_sections": [],
      "name": "keypoint_classification_EN.ipynb",
      "provenance": [],
      "toc_visible": true
    },
    "kernelspec": {
      "display_name": "Python 3 (ipykernel)",
      "language": "python",
      "name": "python3"
    },
    "language_info": {
      "codemirror_mode": {
        "name": "ipython",
        "version": 3
      },
      "file_extension": ".py",
      "mimetype": "text/x-python",
      "name": "python",
      "nbconvert_exporter": "python",
      "pygments_lexer": "ipython3",
      "version": "3.9.13"
    }
  },
  "nbformat": 4,
  "nbformat_minor": 0
}
